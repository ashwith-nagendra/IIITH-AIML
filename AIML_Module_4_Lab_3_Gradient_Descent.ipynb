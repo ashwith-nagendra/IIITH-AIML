{
  "nbformat": 4,
  "nbformat_minor": 0,
  "metadata": {
    "colab": {
      "provenance": [],
      "authorship_tag": "ABX9TyP7t/ooY5cOZ1KLKDGTMvvN",
      "include_colab_link": true
    },
    "kernelspec": {
      "name": "python3",
      "display_name": "Python 3"
    },
    "language_info": {
      "name": "python"
    }
  },
  "cells": [
    {
      "cell_type": "markdown",
      "metadata": {
        "id": "view-in-github",
        "colab_type": "text"
      },
      "source": [
        "<a href=\"https://colab.research.google.com/github/ashwith-nagendra/IIITH-AIML/blob/main/AIML_Module_4_Lab_3_Gradient_Descent.ipynb\" target=\"_parent\"><img src=\"https://colab.research.google.com/assets/colab-badge.svg\" alt=\"Open In Colab\"/></a>"
      ]
    },
    {
      "cell_type": "code",
      "execution_count": 39,
      "metadata": {
        "id": "3zLpi8M_sZWT"
      },
      "outputs": [],
      "source": [
        "import numpy as np\n",
        "import matplotlib.pyplot as plt"
      ]
    },
    {
      "cell_type": "code",
      "source": [
        "np.random.seed(42)"
      ],
      "metadata": {
        "id": "rCFj5QusskvD"
      },
      "execution_count": 2,
      "outputs": []
    },
    {
      "cell_type": "code",
      "source": [
        "X = 2 * np.random.rand(100, 1)\n",
        "y = 4 + 3 * X + np.random.randn(100, 1)"
      ],
      "metadata": {
        "id": "6defTUo0sqTR"
      },
      "execution_count": 3,
      "outputs": []
    },
    {
      "cell_type": "code",
      "source": [
        "plt.plot(X, y, 'b.')\n",
        "plt.xlabel('x')\n",
        "plt.ylabel('y', rotation=0)"
      ],
      "metadata": {
        "colab": {
          "base_uri": "https://localhost:8080/",
          "height": 466
        },
        "id": "5ROv-bV4sudr",
        "outputId": "d9aa71e6-4239-4060-f65c-229ca1d13e47"
      },
      "execution_count": 4,
      "outputs": [
        {
          "output_type": "execute_result",
          "data": {
            "text/plain": [
              "Text(0, 0.5, 'y')"
            ]
          },
          "metadata": {},
          "execution_count": 4
        },
        {
          "output_type": "display_data",
          "data": {
            "text/plain": [
              "<Figure size 640x480 with 1 Axes>"
            ],
            "image/png": "[encoded data removed]"
          },
          "metadata": {}
        }
      ]
    },
    {
      "cell_type": "code",
      "source": [
        "def cal_cost(y_pred, X, y):\n",
        "    '''\n",
        "    Calculates the cost for given X and Y.\n",
        "    y_pred = Vector of y_preds\n",
        "    X = Row of X's np.zeros((2, j))\n",
        "    y = Actual y's np.zeros((2, 1))\n",
        "\n",
        "    where:\n",
        "        j is the no of features\n",
        "    '''\n",
        "\n",
        "    m = len(y)\n",
        "\n",
        "    predictions = X.dot(y_pred)\n",
        "    cost = (1 / 2 * m) * np.sum(np.square(predictions - y))\n",
        "\n",
        "    return cost"
      ],
      "metadata": {
        "id": "ziUmyBo9szvJ"
      },
      "execution_count": 5,
      "outputs": []
    },
    {
      "cell_type": "code",
      "source": [
        "X = np.array([[1, 2], [1, 3], [1, 4]])\n",
        "y = np.array([[5], [6], [7]])\n",
        "y_pred = np.array([0.5, 0.5])\n",
        "\n",
        "cost = cal_cost(y_pred, X, y)\n",
        "print(cost)"
      ],
      "metadata": {
        "colab": {
          "base_uri": "https://localhost:8080/"
        },
        "id": "sBAeiNFTtxMg",
        "outputId": "408feb49-3863-45f5-8038-e08a9b21719b"
      },
      "execution_count": 7,
      "outputs": [
        {
          "output_type": "stream",
          "name": "stdout",
          "text": [
            "227.25\n"
          ]
        }
      ]
    },
    {
      "cell_type": "code",
      "source": [
        "def gradient_descent(X, y, y_pred, learning_rate=0.01, iterations=100):\n",
        "    '''\n",
        "    X = Matrix of X with added bias units\n",
        "    y = Vector of Y\n",
        "    y_pred = Vector of y_preds np.random.randn(j, 1)\n",
        "    learning_rate\n",
        "    iterations = no of iterations\n",
        "\n",
        "    Returns the final y_pred vector and array of cost history over no of iterations\n",
        "    '''\n",
        "\n",
        "    m = len(y)\n",
        "    cost_history = np.zeros(iterations)\n",
        "    y_pred_history = np.zeros((iterations, 2))\n",
        "\n",
        "    for it in range(iterations):\n",
        "        prediction = np.dot(X, y_pred)\n",
        "        y_pred = y_pred - (1 / m) * learning_rate * (X.T.dot((prediction - y)))\n",
        "        y_pred_history[it,:] = y_pred.T\n",
        "        cost_history[it]  = cal_cost(y_pred, X, y)\n",
        "\n",
        "    return y_pred, cost_history, y_pred_history"
      ],
      "metadata": {
        "id": "IQLVQbmatTFI"
      },
      "execution_count": 6,
      "outputs": []
    },
    {
      "cell_type": "code",
      "source": [
        "X = np.array([[1, 1], [1, 2], [1, 3]])\n",
        "y = np.array([[1], [2], [3]])\n",
        "y_pred = np.random.randn(2, 1)\n",
        "\n",
        "y_pred, cost_history, y_pred_history = gradient_descent(X, y, y_pred, learning_rate=0.1, iterations=100)\n",
        "\n",
        "print(\"Final Parameters (y_pred):\", y_pred)\n",
        "print(\"Cost History:\", cost_history)\n",
        "print(\"y_pred History:\", y_pred_history)"
      ],
      "metadata": {
        "colab": {
          "base_uri": "https://localhost:8080/"
        },
        "id": "9b9qWwuQtVLf",
        "outputId": "1bf289c6-496f-4a77-efb1-c444b85bb785"
      },
      "execution_count": 14,
      "outputs": [
        {
          "output_type": "stream",
          "name": "stdout",
          "text": [
            "Final Parameters (y_pred): [[-0.02441632]\n",
            " [ 1.01074078]]\n",
            "Cost History: [6.16785782e-01 1.25613631e-01 2.81165043e-02 8.70247316e-03\n",
            " 4.77721603e-03 3.92577603e-03 3.68573682e-03 3.56866289e-03\n",
            " 3.47763766e-03 3.39339909e-03 3.31208806e-03 3.23290136e-03\n",
            " 3.15564279e-03 3.08023744e-03 3.00663531e-03 2.93479217e-03\n",
            " 2.86466576e-03 2.79621502e-03 2.72939991e-03 2.66418133e-03\n",
            " 2.60052114e-03 2.53838210e-03 2.47772786e-03 2.41852295e-03\n",
            " 2.36073273e-03 2.30432339e-03 2.24926195e-03 2.19551619e-03\n",
            " 2.14305468e-03 2.09184673e-03 2.04186238e-03 1.99307241e-03\n",
            " 1.94544826e-03 1.89896208e-03 1.85358668e-03 1.80929552e-03\n",
            " 1.76606269e-03 1.72386291e-03 1.68267148e-03 1.64246431e-03\n",
            " 1.60321788e-03 1.56490925e-03 1.52751599e-03 1.49101624e-03\n",
            " 1.45538864e-03 1.42061236e-03 1.38666705e-03 1.35353286e-03\n",
            " 1.32119041e-03 1.28962078e-03 1.25880549e-03 1.22872653e-03\n",
            " 1.19936631e-03 1.17070764e-03 1.14273377e-03 1.11542833e-03\n",
            " 1.08877534e-03 1.06275923e-03 1.03736477e-03 1.01257710e-03\n",
            " 9.88381730e-04 9.64764505e-04 9.41711610e-04 9.19209561e-04\n",
            " 8.97245194e-04 8.75805663e-04 8.54878426e-04 8.34451241e-04\n",
            " 8.14512161e-04 7.95049522e-04 7.76051940e-04 7.57508302e-04\n",
            " 7.39407762e-04 7.21739730e-04 7.04493874e-04 6.87660105e-04\n",
            " 6.71228576e-04 6.55189675e-04 6.39534022e-04 6.24252458e-04\n",
            " 6.09336045e-04 5.94776057e-04 5.80563977e-04 5.66691493e-04\n",
            " 5.53150490e-04 5.39933046e-04 5.27031432e-04 5.14438100e-04\n",
            " 5.02145683e-04 4.90146991e-04 4.78435007e-04 4.67002878e-04\n",
            " 4.55843919e-04 4.44951600e-04 4.34319553e-04 4.23941556e-04\n",
            " 4.13811540e-04 4.03923579e-04 3.94271889e-04 3.84850825e-04]\n",
            "y_pred History: [[-0.14391661  0.89215949]\n",
            " [-0.10795684  0.97126838]\n",
            " [-0.09141483  1.00626784]\n",
            " [-0.08352692  1.02162581]\n",
            " [-0.07949939  1.02823915]\n",
            " [-0.07719728  1.03096076]\n",
            " [-0.0756697   1.03195186]\n",
            " [-0.07449311  1.03217493]\n",
            " [-0.07347878  1.03205859]\n",
            " [-0.07254262  1.03179367]\n",
            " [-0.07164709  1.03146515]\n",
            " [-0.07077541  1.03111083]\n",
            " [-0.06992004  1.03074753]\n",
            " [-0.06907754  1.03038269]\n",
            " [-0.06824632  1.03001961]\n",
            " [-0.06742561  1.02965972]\n",
            " [-0.066615    1.02930364]\n",
            " [-0.06581422  1.02895161]\n",
            " [-0.06502312  1.0286037 ]\n",
            " [-0.06424155  1.02825993]\n",
            " [-0.06346938  1.02792027]\n",
            " [-0.0627065   1.02758469]\n",
            " [-0.06195279  1.02725313]\n",
            " [-0.06120814  1.02692556]\n",
            " [-0.06047243  1.02660193]\n",
            " [-0.05974558  1.02628218]\n",
            " [-0.05902745  1.02596628]\n",
            " [-0.05831797  1.02565417]\n",
            " [-0.057617    1.02534582]\n",
            " [-0.05692447  1.02504117]\n",
            " [-0.05624025  1.02474018]\n",
            " [-0.05556427  1.02444282]\n",
            " [-0.0548964   1.02414902]\n",
            " [-0.05423657  1.02385876]\n",
            " [-0.05358466  1.02357198]\n",
            " [-0.05294059  1.02328866]\n",
            " [-0.05230426  1.02300874]\n",
            " [-0.05167558  1.02273218]\n",
            " [-0.05105446  1.02245895]\n",
            " [-0.05044081  1.022189  ]\n",
            " [-0.04983452  1.02192229]\n",
            " [-0.04923553  1.02165879]\n",
            " [-0.04864374  1.02139846]\n",
            " [-0.04805905  1.02114126]\n",
            " [-0.0474814   1.02088715]\n",
            " [-0.04691069  1.02063609]\n",
            " [-0.04634684  1.02038805]\n",
            " [-0.04578977  1.020143  ]\n",
            " [-0.04523939  1.01990089]\n",
            " [-0.04469563  1.01966168]\n",
            " [-0.0441584   1.01942536]\n",
            " [-0.04362763  1.01919187]\n",
            " [-0.04310324  1.01896119]\n",
            " [-0.04258516  1.01873328]\n",
            " [-0.0420733   1.01850812]\n",
            " [-0.04156759  1.01828566]\n",
            " [-0.04106796  1.01806587]\n",
            " [-0.04057434  1.01784872]\n",
            " [-0.04008665  1.01763419]\n",
            " [-0.03960482  1.01742223]\n",
            " [-0.03912879  1.01721282]\n",
            " [-0.03865847  1.01700593]\n",
            " [-0.03819381  1.01680152]\n",
            " [-0.03773474  1.01659957]\n",
            " [-0.03728118  1.01640005]\n",
            " [-0.03683307  1.01620293]\n",
            " [-0.03639035  1.01600818]\n",
            " [-0.03595295  1.01581576]\n",
            " [-0.03552081  1.01562566]\n",
            " [-0.03509386  1.01543785]\n",
            " [-0.03467204  1.01525229]\n",
            " [-0.0342553   1.01506896]\n",
            " [-0.03384356  1.01488784]\n",
            " [-0.03343677  1.01470889]\n",
            " [-0.03303487  1.0145321 ]\n",
            " [-0.03263781  1.01435743]\n",
            " [-0.03224551  1.01418486]\n",
            " [-0.03185793  1.01401436]\n",
            " [-0.03147501  1.01384591]\n",
            " [-0.03109669  1.01367949]\n",
            " [-0.03072292  1.01351506]\n",
            " [-0.03035364  1.01335262]\n",
            " [-0.0299888   1.01319212]\n",
            " [-0.02962834  1.01303356]\n",
            " [-0.02927222  1.0128769 ]\n",
            " [-0.02892038  1.01272212]\n",
            " [-0.02857277  1.01256921]\n",
            " [-0.02822933  1.01241813]\n",
            " [-0.02789003  1.01226887]\n",
            " [-0.0275548   1.0121214 ]\n",
            " [-0.0272236   1.01197571]\n",
            " [-0.02689638  1.01183176]\n",
            " [-0.02657309  1.01168955]\n",
            " [-0.02625369  1.01154905]\n",
            " [-0.02593813  1.01141023]\n",
            " [-0.02562637  1.01127308]\n",
            " [-0.02531835  1.01113758]\n",
            " [-0.02501403  1.01100371]\n",
            " [-0.02471337  1.01087145]\n",
            " [-0.02441632  1.01074078]]\n"
          ]
        }
      ]
    },
    {
      "cell_type": "code",
      "source": [
        "fig, ax = plt.subplots(figsize=(12,8))\n",
        "\n",
        "ax.set_ylabel('Error')\n",
        "ax.set_xlabel('Number of iterations')\n",
        "\n",
        "ax.plot(range(n_iter), cost_history, 'b.')"
      ],
      "metadata": {
        "colab": {
          "base_uri": "https://localhost:8080/",
          "height": 713
        },
        "id": "K1pFLtr7v9u6",
        "outputId": "d70bf409-6f07-4e20-d27c-b640300f4979"
      },
      "execution_count": 21,
      "outputs": [
        {
          "output_type": "execute_result",
          "data": {
            "text/plain": [
              "[<matplotlib.lines.Line2D at 0x78656c31f430>]"
            ]
          },
          "metadata": {},
          "execution_count": 21
        },
        {
          "output_type": "display_data",
          "data": {
            "text/plain": [
              "<Figure size 1200x800 with 1 Axes>"
            ],
            "image/png": "[encoded data removed]"
          },
          "metadata": {}
        }
      ]
    },
    {
      "cell_type": "code",
      "source": [
        "fig,ax = plt.subplots(figsize=(10,8))\n",
        "ax.plot(range(200), cost_history[:200], 'b.')"
      ],
      "metadata": {
        "colab": {
          "base_uri": "https://localhost:8080/",
          "height": 693
        },
        "id": "MeeCOay10xKa",
        "outputId": "62a6a0f2-e46b-4676-cd75-60f59b5a26e6"
      },
      "execution_count": 22,
      "outputs": [
        {
          "output_type": "execute_result",
          "data": {
            "text/plain": [
              "[<matplotlib.lines.Line2D at 0x78656c6f7310>]"
            ]
          },
          "metadata": {},
          "execution_count": 22
        },
        {
          "output_type": "display_data",
          "data": {
            "text/plain": [
              "<Figure size 1000x800 with 1 Axes>"
            ],
            "image/png": "[encoded data removed]"
          },
          "metadata": {}
        }
      ]
    },
    {
      "cell_type": "code",
      "source": [
        "def stocashtic_gradient_descent(X, y, y_pred, learning_rate=0.01, iterations=10):\n",
        "    '''\n",
        "    X = Matrix of X with added bias units\n",
        "    y = Vector of Y\n",
        "    y_pred = Vector of y_pred np.random.randn(j,1)\n",
        "    learning_rate\n",
        "    iterations = no of iterations\n",
        "\n",
        "    Returns the final y_pred vector and array of cost history over no of iterations\n",
        "    '''\n",
        "\n",
        "    m = len(y)\n",
        "    cost_history = np.zeros(iterations)\n",
        "\n",
        "    for it in range(iterations):\n",
        "        cost = 0.0\n",
        "\n",
        "        for i in range(m):\n",
        "            rand_ind = np.random.randint(0,m)\n",
        "            X_i = X[rand_ind, :].reshape(1, X.shape[1])\n",
        "            y_i = y[rand_ind].reshape(1,1)\n",
        "            prediction = np.dot(X_i, y_pred)\n",
        "\n",
        "            y_pred = y_pred - (1 / m) * learning_rate *(X_i.T.dot((prediction - y_i)))\n",
        "            cost += cal_cost(y_pred, X_i, y_i)\n",
        "\n",
        "        cost_history[it]  = cost\n",
        "\n",
        "    return y_pred, cost_history"
      ],
      "metadata": {
        "id": "URM8bG4g03JK"
      },
      "execution_count": 23,
      "outputs": []
    },
    {
      "cell_type": "code",
      "source": [
        "import numpy as np\n",
        "\n",
        "X = np.array([[1, 1], [1, 2], [1, 3]])\n",
        "y = np.array([[1], [2], [3]])\n",
        "y_pred = np.random.randn(2, 1)\n",
        "\n",
        "final_weights, cost_history = stocashtic_gradient_descent(X, y, y_pred, learning_rate=0.01, iterations=100)\n",
        "\n",
        "print(\"Final weights:\", final_weights)\n",
        "print(\"Cost history:\", cost_history)"
      ],
      "metadata": {
        "colab": {
          "base_uri": "https://localhost:8080/"
        },
        "id": "uLCSGGYm1GrN",
        "outputId": "ae352894-171f-4d34-8094-007bee412752"
      },
      "execution_count": 24,
      "outputs": [
        {
          "output_type": "stream",
          "name": "stdout",
          "text": [
            "Final weights: [[0.74793572]\n",
            " [0.65594982]]\n",
            "Cost history: [1.89724649e+01 2.12320180e+01 2.45624744e+01 2.64865826e+01\n",
            " 1.91804481e+01 1.71684015e+01 2.81082277e+00 1.80998795e+01\n",
            " 2.04618848e+01 1.73000881e+01 9.22525259e+00 1.00209268e+01\n",
            " 4.27673071e+00 3.95558596e+00 7.63625963e+00 5.49228792e+00\n",
            " 4.85326305e-01 4.83066690e+00 7.09287437e+00 3.63316535e+00\n",
            " 3.96785419e+00 4.17801232e+00 2.98104175e+00 5.72557911e-01\n",
            " 3.52225635e+00 3.06724926e-02 8.14546720e-01 1.96986093e+00\n",
            " 3.32888737e-01 8.16141663e-03 2.13654545e+00 1.20135929e+00\n",
            " 1.88936919e+00 1.84762151e-01 1.79652885e-01 8.76931667e-01\n",
            " 3.00135074e-01 2.82505278e-01 7.30650932e-01 6.67473599e-01\n",
            " 2.94462088e-01 5.73126292e-01 5.80192430e-01 9.90298437e-02\n",
            " 4.68951648e-01 4.33258691e-01 3.81196019e-01 6.39804624e-01\n",
            " 3.38040393e-01 3.23826479e-01 3.13659760e-01 8.20818653e-02\n",
            " 4.60040931e-01 2.53707449e-01 6.99453684e-02 3.82226626e-02\n",
            " 3.88170878e-01 6.56497783e-02 2.55249469e-01 1.46782548e-01\n",
            " 1.03977682e-01 2.55520539e-01 2.09046638e-01 2.80234048e-01\n",
            " 2.37028930e-01 2.34705445e-01 1.77022238e-01 1.18551012e-01\n",
            " 1.16434379e-01 2.84881916e-01 2.25440826e-01 1.63711216e-01\n",
            " 1.84821795e-01 2.17694894e-01 2.27264909e-01 2.13838579e-01\n",
            " 2.12924455e-01 6.94844583e-02 1.39227662e-01 1.37049575e-01\n",
            " 1.93697385e-01 1.05938881e-01 8.05580818e-02 1.55210229e-01\n",
            " 1.31275538e-01 7.70174145e-02 5.48010150e-02 2.26828254e-01\n",
            " 1.31279364e-01 1.47728812e-01 1.86481160e-01 1.28440988e-01\n",
            " 1.27597551e-01 9.49099319e-02 8.42485897e-02 1.23045001e-01\n",
            " 8.55593334e-02 1.22840106e-01 2.01869742e-01 1.22063670e-01]\n"
          ]
        }
      ]
    },
    {
      "cell_type": "code",
      "source": [
        "lr = 0.5\n",
        "n_iter = 50\n",
        "y_pred = np.random.randn(2, 1)\n",
        "X_b = np.c_[np.ones((len(X), 1)), X]\n",
        "y_pred, cost_history = stocashtic_gradient_descent(X, y, y_pred, lr, n_iter)\n",
        "\n",
        "print('y_pred[0]: {:0.3f}\\ny_pred[1]: {:0.3f}'.format(y_pred[0][0], y_pred[1][0]))\n",
        "print('Final error: {:0.3f}'.format(cost_history[-1]))"
      ],
      "metadata": {
        "colab": {
          "base_uri": "https://localhost:8080/"
        },
        "id": "4u75PAyE1Ure",
        "outputId": "6ff0f0b4-5d0a-4a80-b35e-1bf8e8128b69"
      },
      "execution_count": 26,
      "outputs": [
        {
          "output_type": "stream",
          "name": "stdout",
          "text": [
            "y_pred[0]: -0.002\n",
            "y_pred[1]: 1.001\n",
            "Final error: 0.000\n"
          ]
        }
      ]
    },
    {
      "cell_type": "markdown",
      "source": [
        "Which of the following is TRUE, given the optimal learning rate?\n",
        "\n",
        "(i) Batch gradient descent is always guaranteed to converge to the global optimum of a loss function.\n",
        "\n",
        "(ii) Stochastic gradient descent is always guaranteed to converge to the global optimum of a loss function.\n",
        "\n",
        "(iii) For convex loss functions (i.e. with a bowl shape), batch gradient descent is guaranteed to eventually converge to the global optimum while stochastic gradient descent is not.\n",
        "\n",
        "(iv) For convex loss functions (i.e. with a bowl shape), stochastic gradient descent is guaranteed to eventually converge to the global optimum while batch gradient descent is not.\n",
        "\n",
        "(v) For convex loss functions (i.e. with a bowl shape), both stochastic gradient descent and batch gradient descent will eventually converge to the global optimum.\n",
        "\n",
        "(vi) For convex loss functions (i.e. with a bowl shape), neither stochastic gradient descent nor batch gradient descent are guaranteed to converge to the global optimum."
      ],
      "metadata": {
        "id": "J2UQr-aW7arV"
      }
    },
    {
      "cell_type": "markdown",
      "source": [
        "The true statement given the optimal learning rate is:\n",
        "\n",
        "(v) For convex loss functions (i.e., with a bowl shape), both stochastic gradient descent and batch gradient descent will eventually converge to the global optimum.\n",
        "\n",
        "In the context of convex loss functions, both batch gradient descent and stochastic gradient descent are capable of reaching the global minimum when using an appropriate learning rate. Batch gradient descent computes the gradient using all training examples and follows a smooth path to the minimum. Stochastic gradient descent uses only one or a few training examples and introduces more noise into each step, but with proper adjustments, it also finds its way to the minimum over time."
      ],
      "metadata": {
        "id": "6RCHOzMH7YhG"
      }
    }
  ]
}